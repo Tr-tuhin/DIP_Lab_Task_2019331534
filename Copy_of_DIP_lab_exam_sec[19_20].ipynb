{
  "nbformat": 4,
  "nbformat_minor": 0,
  "metadata": {
    "colab": {
      "provenance": [],
      "include_colab_link": true
    },
    "kernelspec": {
      "name": "python3",
      "display_name": "Python 3"
    },
    "language_info": {
      "name": "python"
    }
  },
  "cells": [
    {
      "cell_type": "markdown",
      "metadata": {
        "id": "view-in-github",
        "colab_type": "text"
      },
      "source": [
        "<a href=\"https://colab.research.google.com/github/Tr-tuhin/DIP_Lab_Task_2019331534/blob/main/Copy_of_DIP_lab_exam_sec%5B19_20%5D.ipynb\" target=\"_parent\"><img src=\"https://colab.research.google.com/assets/colab-badge.svg\" alt=\"Open In Colab\"/></a>"
      ]
    },
    {
      "cell_type": "markdown",
      "source": [
        "## Task of DIP Lab Final 2024(SEC 2019-20):\n",
        "1.  Upload the image(`DIP_Lab_task_01.png`) from drive with extracting details like: image dimension, frequency distribution of intensities, range. [5]\n",
        "2.  Convert the RGB image(`DIP_Lab_task_02.jpg`) to a gray scale image and compare a sub-region of the image by intensity values(5*5 dimension would be enough for comparison). [10]\n",
        "3.  Apply Image(`DIP_Lab_task_03.png`) smoothing with appropriate kernel applied. Identify the noise(if any) before processing. [35]\n",
        "4.  Implement an appropriate technique to reduce the brightness of the provided image (`DIP_Lab_task_04.jpg`) effectively. [20]\n",
        "5.  Solve the segmentation problem for the given image: `'DIP_Lab_task_05.jpg'` [30]\n",
        "\n"
      ],
      "metadata": {
        "id": "E7Fn1ae9B0Nf"
      }
    },
    {
      "cell_type": "markdown",
      "source": [
        "## Lab Resources\n",
        "\n",
        "https://drive.google.com/drive/folders/1DnF8_teHpzrHNvSspl-W5ooxNyxvUU2t?usp=sharing"
      ],
      "metadata": {
        "id": "bOrEVxhRNXLi"
      }
    },
    {
      "cell_type": "markdown",
      "source": [
        "Some Instructions to be strictly followed:\n",
        "- You have to do the task individually but can discuss about the solution approach and possible technique to be applied to get the task done.\n",
        "- **Do not share any of your code** with your fellow classmates that may have a huge penalty on both of your score.\n",
        "- Create a git repo and submit the task there. Try to commit after completing each task individually. The git repo should be **private** until the submission.\n",
        "- Make a video presentation of 4 minutes(max) explaining:\n",
        "  1. Briefly explain the logical part of each task and what approaches you have taken to solve the problem\n",
        "  2. Show the graphics output of the tasks\n",
        "  3. Give a tour of your code\n",
        "  4. Is there any other way to achieve similar/better results\n",
        "  5. Mention the sources you got assistance from.[e.g. chatGPT]\n",
        "\n",
        "### Deadline: 27/12/24 <11:59 pm>\n",
        "*I won't accept any late submission. Your git repo should be public after 28/12/24 12:00 am*"
      ],
      "metadata": {
        "id": "NpcLbiwiMXtR"
      }
    },
    {
      "cell_type": "markdown",
      "source": [
        "Submission Link: https://docs.google.com/forms/d/e/1FAIpQLScK7S7uc_zNd4yhNyyAS0J97fq2S4k7fzZcf4pvX3z0E3A2rg/viewform?usp=header"
      ],
      "metadata": {
        "id": "BPY4fLVVgpBx"
      }
    }
  ]
}